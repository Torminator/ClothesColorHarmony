{
 "cells": [
  {
   "cell_type": "code",
   "execution_count": 1,
   "metadata": {},
   "outputs": [],
   "source": [
    "from colorharmony.cloth import create_cloth_from_image\n",
    "import os"
   ]
  },
  {
   "cell_type": "code",
   "execution_count": 2,
   "metadata": {},
   "outputs": [
    {
     "name": "stdout",
     "output_type": "stream",
     "text": [
      "2\n",
      "[[7.13146385e-01 1.17494211e+00 1.57036275e+00 3.11294057e-02]\n",
      " [7.83553223e+01 1.49069465e+02 1.85467266e+02 2.19304848e+02]]\n",
      "{(78.0, 149.0, 185.0): 2001}\n",
      "----------------\n",
      "3\n",
      "[[3.80237972e-02 5.02327988e-01 8.77909984e-01 2.01758924e-02]\n",
      " [5.95902212e+01 1.36318976e+02 1.77550640e+02 2.51172293e+02]\n",
      " [1.87625000e+02 2.19463816e+02 2.26309211e+02 2.42039474e+01]]\n",
      "{(60.0, 136.0, 178.0): 1718}\n",
      "----------------\n",
      "4\n",
      "[[3.81719034e-02 1.19189821e-01 2.75512854e-01 1.19449494e-02]\n",
      " [5.92507323e+01 1.36169889e+02 1.77528412e+02 2.51941418e+02]\n",
      " [2.45791411e+02 2.49877301e+02 2.48748466e+02 1.31963190e+01]\n",
      " [1.09035928e+02 1.74994012e+02 1.95065868e+02 4.00538922e+01]]\n",
      "{(59.0, 136.0, 178.0): 1707}\n",
      "----------------\n"
     ]
    }
   ],
   "source": [
    "image_path = os.path.join(\"clothes_images\", \"TOB22O01O-K11@10.jpg\")\n",
    "tshirt = create_cloth_from_image(image_path, \"tshirt\", debug=True)"
   ]
  },
  {
   "cell_type": "code",
   "execution_count": 3,
   "metadata": {
    "scrolled": false
   },
   "outputs": [
    {
     "name": "stdout",
     "output_type": "stream",
     "text": [
      "2\n",
      "[[ 79.29899607  78.77171541  64.4465299  220.0371017 ]\n",
      " [  3.51237142   3.51348346   3.30636642   0.33027523]]\n",
      "{(79.0, 79.0, 64.0): 2291}\n",
      "----------------\n",
      "3\n",
      "[[ 60.62005929  59.99950593  44.40612648 246.09387352]\n",
      " [  2.36735838   2.37016265   2.16713404   0.42428491]\n",
      " [211.98322148 212.12416107 207.83221477  19.08053691]]\n",
      "{(61.0, 60.0, 44.0): 2024}\n",
      "----------------\n",
      "4\n",
      "[[5.88082474e+01 5.81752577e+01 4.24061856e+01 2.51434021e+02]\n",
      " [9.85264374e-02 9.79485698e-02 4.44958105e-02 4.99855533e-02]\n",
      " [2.46088235e+02 2.46230392e+02 2.45147059e+02 1.01421569e+01]\n",
      " [1.04865724e+02 1.04855124e+02 9.57879859e+01 5.39540636e+01]]\n",
      "{(59.0, 58.0, 42.0): 1940}\n",
      "----------------\n"
     ]
    }
   ],
   "source": [
    "image_path = os.path.join(\"clothes_images\", \"JA222E06B-N11@12.jpg\")\n",
    "trouser = create_cloth_from_image(image_path, \"trouser\", debug=True)"
   ]
  },
  {
   "cell_type": "code",
   "execution_count": 4,
   "metadata": {},
   "outputs": [],
   "source": [
    "from colorharmony.outfit import Outfit"
   ]
  },
  {
   "cell_type": "code",
   "execution_count": 5,
   "metadata": {},
   "outputs": [],
   "source": [
    "outfit = Outfit([tshirt, trouser])"
   ]
  },
  {
   "cell_type": "code",
   "execution_count": 6,
   "metadata": {},
   "outputs": [
    {
     "data": {
      "text/plain": [
       "<colorharmony.outfit.Outfit at 0x7f965d6bfc88>"
      ]
     },
     "execution_count": 6,
     "metadata": {},
     "output_type": "execute_result"
    }
   ],
   "source": []
  },
  {
   "cell_type": "code",
   "execution_count": null,
   "metadata": {},
   "outputs": [],
   "source": []
  }
 ],
 "metadata": {
  "kernelspec": {
   "display_name": "Python [conda env:color]",
   "language": "python",
   "name": "conda-env-color-py"
  },
  "language_info": {
   "codemirror_mode": {
    "name": "ipython",
    "version": 3
   },
   "file_extension": ".py",
   "mimetype": "text/x-python",
   "name": "python",
   "nbconvert_exporter": "python",
   "pygments_lexer": "ipython3",
   "version": "3.7.0"
  }
 },
 "nbformat": 4,
 "nbformat_minor": 2
}
